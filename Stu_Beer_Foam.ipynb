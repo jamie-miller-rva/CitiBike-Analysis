{
  "nbformat": 4,
  "nbformat_minor": 0,
  "metadata": {
    "celltoolbar": "Create Assignment",
    "kernelspec": {
      "display_name": "Python 3",
      "language": "python",
      "name": "python3"
    },
    "language_info": {
      "codemirror_mode": {
        "name": "ipython",
        "version": 3
      },
      "file_extension": ".py",
      "mimetype": "text/x-python",
      "name": "python",
      "nbconvert_exporter": "python",
      "pygments_lexer": "ipython3",
      "version": "3.8.3"
    },
    "varInspector": {
      "cols": {
        "lenName": 16,
        "lenType": 16,
        "lenVar": 40
      },
      "kernels_config": {
        "python": {
          "delete_cmd_postfix": "",
          "delete_cmd_prefix": "del ",
          "library": "var_list.py",
          "varRefreshCmd": "print(var_dic_list())"
        },
        "r": {
          "delete_cmd_postfix": ") ",
          "delete_cmd_prefix": "rm(",
          "library": "var_list.r",
          "varRefreshCmd": "cat(var_dic_list()) "
        }
      },
      "types_to_exclude": [
        "module",
        "function",
        "builtin_function_or_method",
        "instance",
        "_Feature"
      ],
      "window_display": false
    },
    "colab": {
      "name": "Stu_Beer_Foam.ipynb",
      "provenance": [],
      "include_colab_link": true
    }
  },
  "cells": [
    {
      "cell_type": "markdown",
      "metadata": {
        "id": "view-in-github",
        "colab_type": "text"
      },
      "source": [
        "<a href=\"https://colab.research.google.com/github/jamie-miller-rva/CitiBike-Analysis/blob/master/Stu_Beer_Foam.ipynb\" target=\"_parent\"><img src=\"https://colab.research.google.com/assets/colab-badge.svg\" alt=\"Open In Colab\"/></a>"
      ]
    },
    {
      "cell_type": "code",
      "metadata": {
        "nbgrader": {
          "grade": false,
          "grade_id": "cell-195a16dbc662c53b",
          "locked": true,
          "schema_version": 1,
          "solution": false
        },
        "id": "fZifQaPNFpme"
      },
      "source": [
        "%matplotlib inline\n",
        "import matplotlib.pyplot as plt\n",
        "import numpy as np\n",
        "import pandas as pd"
      ],
      "execution_count": 1,
      "outputs": []
    },
    {
      "cell_type": "markdown",
      "metadata": {
        "id": "84xNiGJRFpmm"
      },
      "source": [
        "## Dataset: beer_foam.csv\n",
        "\n",
        "Source: J.J. Hackbarth (2006). \"Multivariate Analyses of Beer Foam Stand,\"\n",
        "Journal of the Institute of Brewing, Vol. 112, #1, pp. 17-24\n",
        "\n",
        "Description: Measurements of wet foam height and beer height at various\n",
        "time points for Shiner Bock at 20C. Author fits exponential decay model:\n",
        "H(t) = H(0)*exp(-lambda*t)\n",
        "\n",
        "Variables/Columns\n",
        "TIME: Time from pour (seconds)  4-8\n",
        "FOAM: Wet foam height (cm)  10-16\n",
        "BEER: Beer height (cm)    18-24\n",
        "\n",
        "**Hypothesis**: Can we predict the time from pour using the measurements of foam height and beer height?\n"
      ]
    },
    {
      "cell_type": "code",
      "metadata": {
        "id": "daGSic1hFpmn",
        "outputId": "b5ade0b2-9afa-4f16-f3bb-0be29a8a73a7"
      },
      "source": [
        "# Read the csv file into a pandas DataFrame\n",
        "\n",
        "foam = pd.read_csv('../Resources/foam.csv')\n",
        "foam.head()"
      ],
      "execution_count": null,
      "outputs": [
        {
          "output_type": "execute_result",
          "data": {
            "text/html": [
              "<div>\n",
              "<style scoped>\n",
              "    .dataframe tbody tr th:only-of-type {\n",
              "        vertical-align: middle;\n",
              "    }\n",
              "\n",
              "    .dataframe tbody tr th {\n",
              "        vertical-align: top;\n",
              "    }\n",
              "\n",
              "    .dataframe thead th {\n",
              "        text-align: right;\n",
              "    }\n",
              "</style>\n",
              "<table border=\"1\" class=\"dataframe\">\n",
              "  <thead>\n",
              "    <tr style=\"text-align: right;\">\n",
              "      <th></th>\n",
              "      <th>time</th>\n",
              "      <th>foam</th>\n",
              "      <th>beer</th>\n",
              "    </tr>\n",
              "  </thead>\n",
              "  <tbody>\n",
              "    <tr>\n",
              "      <th>0</th>\n",
              "      <td>0</td>\n",
              "      <td>17.4</td>\n",
              "      <td>0.60</td>\n",
              "    </tr>\n",
              "    <tr>\n",
              "      <th>1</th>\n",
              "      <td>15</td>\n",
              "      <td>15.1</td>\n",
              "      <td>2.20</td>\n",
              "    </tr>\n",
              "    <tr>\n",
              "      <th>2</th>\n",
              "      <td>30</td>\n",
              "      <td>13.1</td>\n",
              "      <td>3.40</td>\n",
              "    </tr>\n",
              "    <tr>\n",
              "      <th>3</th>\n",
              "      <td>45</td>\n",
              "      <td>11.6</td>\n",
              "      <td>4.15</td>\n",
              "    </tr>\n",
              "    <tr>\n",
              "      <th>4</th>\n",
              "      <td>60</td>\n",
              "      <td>10.6</td>\n",
              "      <td>4.50</td>\n",
              "    </tr>\n",
              "  </tbody>\n",
              "</table>\n",
              "</div>"
            ],
            "text/plain": [
              "   time  foam  beer\n",
              "0     0  17.4  0.60\n",
              "1    15  15.1  2.20\n",
              "2    30  13.1  3.40\n",
              "3    45  11.6  4.15\n",
              "4    60  10.6  4.50"
            ]
          },
          "metadata": {
            "tags": []
          },
          "execution_count": 9
        }
      ]
    },
    {
      "cell_type": "code",
      "metadata": {
        "id": "uCPbwLkIFpmo",
        "outputId": "fe4e6824-f38b-4035-b3bb-7574b3d943b9"
      },
      "source": [
        "# Assign the data to X and y\n",
        "\n",
        "X = foam[[\"foam\", \"beer\"]]\n",
        "y = foam[\"time\"].values.reshape(-1, 1)\n",
        "print(X.shape, y.shape)"
      ],
      "execution_count": null,
      "outputs": [
        {
          "output_type": "stream",
          "text": [
            "(13, 2) (13, 1)\n"
          ],
          "name": "stdout"
        }
      ]
    },
    {
      "cell_type": "code",
      "metadata": {
        "nbgrader": {
          "grade": false,
          "grade_id": "cell-97f9d8f3d4b7abc1",
          "locked": false,
          "schema_version": 1,
          "solution": true
        },
        "id": "J7r2l58_Fpmp"
      },
      "source": [
        "# Use train_test_split to create training and testing data\n",
        "\n",
        "### BEGIN SOLUTION\n",
        "from sklearn.model_selection import train_test_split\n",
        "\n",
        "X_train, X_test, y_train, y_test = train_test_split(X, y, random_state=42)\n",
        "\n",
        "### END SOLUTION"
      ],
      "execution_count": null,
      "outputs": []
    },
    {
      "cell_type": "code",
      "metadata": {
        "nbgrader": {
          "grade": false,
          "grade_id": "cell-500eedfd487be441",
          "locked": false,
          "schema_version": 1,
          "solution": true
        },
        "id": "8NyE4x6XFpmp"
      },
      "source": [
        "# Create the model using LinearRegression\n",
        "\n",
        "### BEGIN SOLUTION\n",
        "from sklearn.linear_model import LinearRegression\n",
        "model = LinearRegression()\n",
        "### END SOLUTION"
      ],
      "execution_count": null,
      "outputs": []
    },
    {
      "cell_type": "code",
      "metadata": {
        "nbgrader": {
          "grade": false,
          "grade_id": "cell-715f0369813d2b84",
          "locked": false,
          "schema_version": 1,
          "solution": true
        },
        "id": "fYYNF03tFpmp",
        "outputId": "45a3bd73-1118-40f0-9e1d-532911b74620"
      },
      "source": [
        "# Fit the model to the training data and calculate the scores for the training and testing data\n",
        "\n",
        "### BEGIN SOLUTION\n",
        "model.fit(X_train, y_train)\n",
        "training_score = model.score(X_train, y_train)\n",
        "testing_score = model.score(X_test, y_test)\n",
        "\n",
        "### END SOLUTION \n",
        "\n",
        "print(f\"Training Score: {training_score}\")\n",
        "print(f\"Testing Score: {testing_score}\")"
      ],
      "execution_count": null,
      "outputs": [
        {
          "output_type": "stream",
          "text": [
            "Training Score: 0.9907390608835368\n",
            "Testing Score: 0.940081803648188\n"
          ],
          "name": "stdout"
        }
      ]
    },
    {
      "cell_type": "code",
      "metadata": {
        "nbgrader": {
          "grade": false,
          "grade_id": "cell-90aed41fb7c4f723",
          "locked": false,
          "schema_version": 1,
          "solution": true
        },
        "id": "yX3WbpBdFpmq",
        "outputId": "e87aa2a3-416c-42bf-d88c-90170bf186a3"
      },
      "source": [
        "# Plot the Residuals for the Training and Testing data\n",
        "\n",
        "### BEGIN SOLUTION\n",
        "plt.scatter(model.predict(X_train), model.predict(X_train) - y_train, c=\"blue\", label=\"Training Data\")\n",
        "plt.scatter(model.predict(X_test), model.predict(X_test) - y_test, c=\"orange\", label=\"Testing Data\")\n",
        "plt.legend()\n",
        "plt.hlines(y=0, xmin=y.min(), xmax=y.max())\n",
        "plt.title(\"Residual Plot\")\n",
        "### END SOLUTION"
      ],
      "execution_count": null,
      "outputs": [
        {
          "output_type": "execute_result",
          "data": {
            "text/plain": [
              "Text(0.5, 1.0, 'Residual Plot')"
            ]
          },
          "metadata": {
            "tags": []
          },
          "execution_count": 14
        },
        {
          "output_type": "display_data",
          "data": {
            "image/png": "[encoded data removed]",
            "text/plain": [
              "<Figure size 432x288 with 1 Axes>"
            ]
          },
          "metadata": {
            "tags": [],
            "needs_background": "light"
          }
        }
      ]
    }
  ]
}